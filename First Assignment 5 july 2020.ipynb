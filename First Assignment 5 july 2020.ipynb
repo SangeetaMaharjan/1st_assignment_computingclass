{
 "cells": [
  {
   "cell_type": "markdown",
   "metadata": {},
   "source": [
    "# **NPS School of Computing**\n",
    "## **1. Introduction**\n",
    "Nepal Physical Society (NPS) has been conducting online class on Computational Course for the faculties of Physics from different universities, constituent, community, and private campuses of Nepal. The main objectives of the the class is to impart the computational skills and techniques to the Physics faculties of Tribhuvan University.The school includes the training of Python programming languague and solving introductory computational problems in the Physics courses using Python programming and Quantum Physics with QuTip, and Quantum Computing with QisKit, and several data-visualization techniques. \n",
    "\n",
    "The main instructor of the school is Dr. Dibakar Sigdel, Data Scientist from the USA, who has already conducted summer and winter schools in ANPA, USA. Besides, other trained Physics faculties from Tribhuvan University namely, Devendra Raj Upadhyay, Karan Giri, Madhu Sudan Paudel and Yogesh Singh Maharjan are assisting Dr. Dibakar Sigdel to make the class effective."
   ]
  },
  {
   "cell_type": "markdown",
   "metadata": {},
   "source": [
    "## **2. Participant Comment**\n",
    "I am of the participants of the NPS School of Computing. This is my first experience in online course. I am very much excited to learn Python Programming Language and solving the problems in Physics.We are so grateful to have very helpful instructors. Our instructors are supporting us to solve queries and installation difficulties beyond the class time too. I am hopeful that we will be doing better in Python language in coming days.I would like to thank Nepal Physical Society and our dedicated instructors for conducting the class."
   ]
  },
  {
   "cell_type": "markdown",
   "metadata": {},
   "source": [
    "## **3. Few Photos from Class**\n",
    "Few photos posted by our instructor Madhu Sudan Paudel"
   ]
  },
  {
   "cell_type": "markdown",
   "metadata": {},
   "source": [
    "![img](nps_pic1.jpg)"
   ]
  },
  {
   "cell_type": "markdown",
   "metadata": {},
   "source": [
    "![img](nps_pic2.jpg)"
   ]
  },
  {
   "cell_type": "markdown",
   "metadata": {},
   "source": [
    "![img](nps_pic3.png)"
   ]
  },
  {
   "cell_type": "markdown",
   "metadata": {},
   "source": [
    "![img](nps_pic4.png)"
   ]
  },
  {
   "cell_type": "markdown",
   "metadata": {},
   "source": [
    "## **4. Some Equations**"
   ]
  },
  {
   "cell_type": "markdown",
   "metadata": {},
   "source": [
    "i. $z=\\dfrac{x^2}{2y}$\n",
    "\n",
    "ii.$\\int_0^\\infty exp {x^2}dx$"
   ]
  },
  {
   "cell_type": "markdown",
   "metadata": {},
   "source": [
    "iii.$C=\\sqrt{x^3+2xy+y^2}$"
   ]
  },
  {
   "cell_type": "markdown",
   "metadata": {},
   "source": [
    "iv. $x=\\frac{-b\\pm\\sqrt{b^2-4ac}}{2a}$"
   ]
  },
  {
   "cell_type": "markdown",
   "metadata": {},
   "source": [
    "v. $tan(x)=\\frac{sin(x)}{cos(x)}$"
   ]
  }
 ],
 "metadata": {
  "kernelspec": {
   "display_name": "Python 3",
   "language": "python",
   "name": "python3"
  },
  "language_info": {
   "codemirror_mode": {
    "name": "ipython",
    "version": 3
   },
   "file_extension": ".py",
   "mimetype": "text/x-python",
   "name": "python",
   "nbconvert_exporter": "python",
   "pygments_lexer": "ipython3",
   "version": "3.7.6"
  }
 },
 "nbformat": 4,
 "nbformat_minor": 4
}
